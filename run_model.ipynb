{
 "cells": [
  {
   "cell_type": "code",
   "execution_count": 1,
   "metadata": {
    "collapsed": false
   },
   "outputs": [],
   "source": [
    "# imports\n",
    "import os\n",
    "import pandas as pd\n",
    "import numpy as np\n",
    "\n",
    "# constants\n",
    "DATA_DIR = os.path.join('data','ad_placement')\n",
    "train_path = os.path.join(DATA_DIR, 'census-income.csv')\n",
    "test_path = os.path.join(DATA_DIR, 'census-income-test.csv')\n",
    "\n",
    "with open(train_path, 'r') as train_file:\n",
    "    df_train = pd.read_csv(train_file, header=None)\n",
    "with open(test_path, 'r') as test_file:\n",
    "    df_test = pd.read_csv(test_file, header=None)\n"
   ]
  },
  {
   "cell_type": "code",
   "execution_count": 2,
   "metadata": {
    "collapsed": false
   },
   "outputs": [
    {
     "data": {
      "text/plain": [
       "0        91\n",
       "1         9\n",
       "2        52\n",
       "3        47\n",
       "4        17\n",
       "5      1240\n",
       "6         3\n",
       "7         7\n",
       "8        24\n",
       "9        15\n",
       "10        5\n",
       "11       10\n",
       "12        2\n",
       "13        3\n",
       "14        6\n",
       "15        8\n",
       "16      132\n",
       "17      113\n",
       "18     1478\n",
       "19        6\n",
       "20        6\n",
       "21       51\n",
       "22       38\n",
       "23        8\n",
       "24    99800\n",
       "25       10\n",
       "26        9\n",
       "27       10\n",
       "28        3\n",
       "29        4\n",
       "30        7\n",
       "31        5\n",
       "32       43\n",
       "33       43\n",
       "34       43\n",
       "35        5\n",
       "36        3\n",
       "37        3\n",
       "38        3\n",
       "39       53\n",
       "40        2\n",
       "41        2\n",
       "dtype: int64"
      ]
     },
     "execution_count": 2,
     "metadata": {},
     "output_type": "execute_result"
    }
   ],
   "source": [
    "df_train.apply(pd.Series.nunique,axis=0)"
   ]
  },
  {
   "cell_type": "code",
   "execution_count": 3,
   "metadata": {
    "collapsed": true
   },
   "outputs": [],
   "source": [
    "# all columns (except the 25th, with 99800 unique values) match in order the following list\n",
    "# https://kdd.ics.uci.edu/databases/census-income/census-income.names\n",
    "#   91 distinct values for attribute #0 (age) continuous\n",
    "#    9 distinct values for attribute #1 (class of worker) nominal\n",
    "#   52 distinct values for attribute #2 (detailed industry recode) nominal\n",
    "#   47 distinct values for attribute #3 (detailed occupation recode) nominal\n",
    "#   17 distinct values for attribute #4 (education) nominal\n",
    "# 1240 distinct values for attribute #5 (wage per hour) continuous\n",
    "#    3 distinct values for attribute #6 (enroll in edu inst last wk) nominal\n",
    "#    7 distinct values for attribute #7 (marital stat) nominal\n",
    "#   24 distinct values for attribute #8 (major industry code) nominal\n",
    "#   15 distinct values for attribute #9 (major occupation code) nominal\n",
    "#    5 distinct values for attribute #10 (race) nominal\n",
    "#   10 distinct values for attribute #11 (hispanic origin) nominal\n",
    "#    2 distinct values for attribute #12 (sex) nominal\n",
    "#    3 distinct values for attribute #13 (member of a labor union) nominal\n",
    "#    6 distinct values for attribute #14 (reason for unemployment) nominal\n",
    "#    8 distinct values for attribute #15 (full or part time employment stat) nominal\n",
    "#  132 distinct values for attribute #16 (capital gains) continuous\n",
    "#  113 distinct values for attribute #17 (capital losses) continuous\n",
    "# 1478 distinct values for attribute #18 (dividends from stocks) continuous\n",
    "#    6 distinct values for attribute #19 (tax filer stat) nominal\n",
    "#    6 distinct values for attribute #20 (region of previous residence) nominal\n",
    "#   51 distinct values for attribute #21 (state of previous residence) nominal\n",
    "#   38 distinct values for attribute #22 (detailed household and family stat) nominal\n",
    "#    8 distinct values for attribute #23 (detailed household summary in household) nominal\n",
    "#   10 distinct values for attribute #24 (migration code-change in msa) nominal\n",
    "#    9 distinct values for attribute #25 (migration code-change in reg) nominal\n",
    "#   10 distinct values for attribute #26 (migration code-move within reg) nominal\n",
    "#    3 distinct values for attribute #27 (live in this house 1 year ago) nominal\n",
    "#    4 distinct values for attribute #28 (migration prev res in sunbelt) nominal\n",
    "#    7 distinct values for attribute #29 (num persons worked for employer) continuous\n",
    "#    5 distinct values for attribute #30 (family members under 18) nominal\n",
    "#   43 distinct values for attribute #31 (country of birth father) nominal\n",
    "#   43 distinct values for attribute #32 (country of birth mother) nominal\n",
    "#   43 distinct values for attribute #33 (country of birth self) nominal\n",
    "#    5 distinct values for attribute #34 (citizenship) nominal\n",
    "#    3 distinct values for attribute #35 (own business or self employed) nominal\n",
    "#    3 distinct values for attribute #36 (fill inc questionnaire for veteran's admin) nominal\n",
    "#    3 distinct values for attribute #37 (veterans benefits) nominal\n",
    "#   53 distinct values for attribute #38 (weeks worked in year) continuous\n",
    "#    2 distinct values for attribute #39 (year) nominal"
   ]
  },
  {
   "cell_type": "code",
   "execution_count": 4,
   "metadata": {
    "collapsed": false
   },
   "outputs": [],
   "source": [
    "list_var = [\n",
    "    \"age\",\n",
    "    \"class_of_worker\",\n",
    "    \"detailed_industry_recode\",\n",
    "    \"detailed_occupation_recode\",\n",
    "    \"education\",\n",
    "    \"wage_per_hour\",\n",
    "    \"enroll_in_edu_inst_last_wk\",\n",
    "    \"marital_stat\",\n",
    "    \"major_industry_code\",\n",
    "    \"major_occupation_code\",\n",
    "    \"race\",\n",
    "    \"hispanic_origin\",\n",
    "    \"sex\",\n",
    "    \"member_of_a_labor_union\",\n",
    "    \"reason_for_unemployment\",\n",
    "    \"full_or_part_time_employment_stat\",\n",
    "    \"capital_gains\",\n",
    "    \"capital_losses\",\n",
    "    \"dividends_from_stocks\",\n",
    "    \"tax_filer_stat\",\n",
    "    \"region_of_previous_residence\",\n",
    "    \"state_of_previous_residence\",\n",
    "    \"detailed_household_and_family_stat\",\n",
    "    \"detailed_household_summary_in_household\",\n",
    "    \"instance_weight\",\n",
    "    \"migration_code_change_in_msa\",\n",
    "    \"migration_code_change_in_reg\",\n",
    "    \"migration_code_move_within_reg\",\n",
    "    \"live_in_this_house_1_year_ago\",\n",
    "    \"migration_prev_res_in_sunbelt\",\n",
    "    \"num_persons_worked_for_employer\",\n",
    "    \"family_members_under_18\",\n",
    "    \"country_of_birth_father\",\n",
    "    \"country_of_birth_mother\",\n",
    "    \"country_of_birth_self\",\n",
    "    \"citizenship\",\n",
    "    \"own_business_or_self_employed\",\n",
    "    \"fill_inc_questionnaire_for_veterans_admin\",\n",
    "    \"veterans_benefits\",\n",
    "    \"weeks_worked_in_year\",\n",
    "    \"year\",\n",
    "    \"income_bucket\"\n",
    "]"
   ]
  },
  {
   "cell_type": "code",
   "execution_count": 5,
   "metadata": {
    "collapsed": true
   },
   "outputs": [],
   "source": [
    "df_train.columns = list_var\n",
    "df_test.columns = list_var"
   ]
  },
  {
   "cell_type": "code",
   "execution_count": 6,
   "metadata": {
    "collapsed": false
   },
   "outputs": [],
   "source": [
    "var_y = 'income_bucket'\n",
    "list_var_num = [\n",
    "    \"age\",\n",
    "    \"wage_per_hour\",\n",
    "    \"capital_gains\",\n",
    "    \"capital_losses\",\n",
    "    \"dividends_from_stocks\",\n",
    "    \"num_persons_worked_for_employer\",\n",
    "    \"weeks_worked_in_year\"\n",
    "]\n",
    "list_var_cat =  [x for x in list_var if x not in list_var_num and x != var_y]"
   ]
  },
  {
   "cell_type": "code",
   "execution_count": 7,
   "metadata": {
    "collapsed": false
   },
   "outputs": [],
   "source": [
    "import patsy\n",
    "patsy_cat_formula = \"\"\n",
    "for var in list_var_cat:\n",
    "    if not patsy_cat_formula:\n",
    "        patsy_cat_formula = var\n",
    "    else:\n",
    "        patsy_cat_formula = patsy_cat_formula + \"+\" + var\n",
    "\n",
    "df_train_cat = patsy.dmatrix(patsy_cat_formula+\"-1\", data=df_train, return_type='dataframe')\n",
    "df_test_cat = patsy.dmatrix(patsy_cat_formula+\"-1\", data=df_test, return_type='dataframe')\n"
   ]
  },
  {
   "cell_type": "code",
   "execution_count": 15,
   "metadata": {
    "collapsed": false
   },
   "outputs": [],
   "source": [
    "X_train = pd.concat([df_train[list_var_num], df_train_cat], axis=1)\n",
    "X_test = pd.concat([df_test[list_var_num], df_test_cat], axis=1)\n",
    "y_train = df_train[var_y]\n",
    "y_test = df_test[var_y]"
   ]
  },
  {
   "cell_type": "code",
   "execution_count": 19,
   "metadata": {
    "collapsed": false
   },
   "outputs": [
    {
     "name": "stdout",
     "output_type": "stream",
     "text": [
      "(199523, 383)\n",
      "(199523, 42)\n",
      "(199523, 376)\n",
      "\n",
      "\n",
      "(99762, 382)\n",
      "(99762, 42)\n",
      "(99762, 375)\n"
     ]
    }
   ],
   "source": [
    "print df_train.shape\n",
    "print df_train_cat.shape\n",
    "print X_train.shape\n",
    "print y_train.shape\n",
    "print \"\\n\"\n",
    "print df_test.shape\n",
    "print df_test_cat.shape\n",
    "print X_test.shape\n",
    "print y_test.shape\n",
    "#seems like df_test is missing a value in one of its categoric variables (376 = 375 + 1)"
   ]
  },
  {
   "cell_type": "code",
   "execution_count": null,
   "metadata": {
    "collapsed": true
   },
   "outputs": [],
   "source": [
    "missing = [x for x in X_train.columns if x not in X_test.columns]\n",
    "print missing\n",
    "#add missing column to test\n",
    "X_test[missing[0]] = 0"
   ]
  },
  {
   "cell_type": "code",
   "execution_count": null,
   "metadata": {
    "collapsed": true
   },
   "outputs": [],
   "source": [
    "from sklearn.preprocessing import StandardScaler\n",
    "from sklearn.pipeline import Pipeline\n",
    "from sklearn.linear_model import LogisticRegression\n",
    "from sklearn.grid_search import GridSearchCV\n",
    "\n",
    "# build pipe: first standardize by substracting mean and dividing std\n",
    "# next do classificaiton\n",
    "pipe = Pipeline(steps=[('StandardScaler', StandardScaler()), ('logistic', LogisticRegression())])\n",
    "\n",
    "Cs_try1 = np.logspace(-2, 2, 5)\n",
    "print Cs_try1\n",
    "\n",
    "cv_c_try1 = GridSearchCV(pipe, dict(logistic__C=Cs_try1))\n",
    "cv_c_try1.fit(X_train, y_train)\n",
    "\n",
    "print cv_c_try1.grid_scores_\n",
    "print \"best C: \" + str(cv_c_try1.best_estimator_.named_steps['logistic'].C)\n"
   ]
  },
  {
   "cell_type": "code",
   "execution_count": null,
   "metadata": {
    "collapsed": true
   },
   "outputs": [],
   "source": [
    "Cs_try2 = np.arange(0.1, 1, 0.1)\n",
    "print Cs_try2\n",
    "\n",
    "cv_c_try2 = GridSearchCV(pipe, dict(logistic__C=new_Cs))\n",
    "cv_c_try2.fit(X_train, y_train)\n",
    "\n",
    "print cv_c_try2.grid_scores_\n",
    "print \"best C: \" + str(cv_c_try2.best_estimator_.named_steps['logistic'].C)\n"
   ]
  },
  {
   "cell_type": "code",
   "execution_count": null,
   "metadata": {
    "collapsed": true
   },
   "outputs": [],
   "source": [
    "logistic_lasso = LogisticRegression(penalty='l1', C=cv_c_try2.best_estimator_.named_steps['logistic'].C)\n",
    "logistic_lasso.fit(X_train, y_train)\n",
    "print sum(logistic_lasso.coef_[0] != 0.0)\n",
    "print sum(logistic_lasso.coef_[0] == 0.0)\n",
    "len(X_train.columns)\n"
   ]
  },
  {
   "cell_type": "code",
   "execution_count": null,
   "metadata": {
    "collapsed": true
   },
   "outputs": [],
   "source": [
    "X_train_reduced = X_train.loc[:,logistic_lasso.coef_[0] != 0.0]"
   ]
  }
 ],
 "metadata": {
  "kernelspec": {
   "display_name": "Python 2",
   "language": "python",
   "name": "python2"
  },
  "language_info": {
   "codemirror_mode": {
    "name": "ipython",
    "version": 2
   },
   "file_extension": ".py",
   "mimetype": "text/x-python",
   "name": "python",
   "nbconvert_exporter": "python",
   "pygments_lexer": "ipython2",
   "version": "2.7.11"
  }
 },
 "nbformat": 4,
 "nbformat_minor": 0
}
