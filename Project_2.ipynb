{
 "cells": [
  {
   "cell_type": "code",
   "execution_count": 283,
   "metadata": {
    "collapsed": false
   },
   "outputs": [],
   "source": [
    "# imports\n",
    "import os\n",
    "import pandas as pd\n",
    "\n",
    "# constants\n",
    "DATA_DIR = os.path.join('data','ad_placement')\n",
    "train_path = os.path.join(DATA_DIR, 'census-income.csv')\n",
    "test_path = os.path.join(DATA_DIR, 'census-income-test.csv')\n",
    "\n",
    "with open(train_path, 'r') as train_file:\n",
    "    df_train = pd.read_csv(train_file, header=None)\n",
    "with open(test_path, 'r') as test_file:\n",
    "    df_test = pd.read_csv(test_file, header=None)\n"
   ]
  },
  {
   "cell_type": "code",
   "execution_count": null,
   "metadata": {
    "collapsed": false
   },
   "outputs": [],
   "source": []
  },
  {
   "cell_type": "code",
   "execution_count": 284,
   "metadata": {
    "collapsed": true
   },
   "outputs": [],
   "source": [
    "list_var = [\n",
    "    \"age\",\n",
    "    \"class_of_worker\",\n",
    "    \"detailed_industry_recode\",\n",
    "    \"detailed_occupation_recode\",\n",
    "    \"education\",\n",
    "    \"wage_per_hour\",\n",
    "    \"enroll_in_edu_inst_last_wk\",\n",
    "    \"marital_stat\",\n",
    "    \"major_industry_code\",\n",
    "    \"major_occupation_code\",\n",
    "    \"race\",\n",
    "    \"hispanic_origin\",\n",
    "    \"sex\",\n",
    "    \"member_of_a_labor_union\",\n",
    "    \"reason_for_unemployment\",\n",
    "    \"full_or_part_time_employment_stat\",\n",
    "    \"capital_gains\",\n",
    "    \"capital_losses\",\n",
    "    \"dividends_from_stocks\",\n",
    "    \"tax_filer_stat\",\n",
    "    \"region_of_previous_residence\",\n",
    "    \"state_of_previous_residence\",\n",
    "    \"detailed_household_and_family_stat\",\n",
    "    \"detailed_household_summary_in_household\",\n",
    "    \"instance_weight\",\n",
    "    \"migration_code_change_in_msa\",\n",
    "    \"migration_code_change_in_reg\",\n",
    "    \"migration_code_move_within_reg\",\n",
    "    \"live_in_this_house_1_year_ago\",\n",
    "    \"migration_prev_res_in_sunbelt\",\n",
    "    \"num_persons_worked_for_employer\",\n",
    "    \"family_members_under_18\",\n",
    "    \"country_of_birth_father\",\n",
    "    \"country_of_birth_mother\",\n",
    "    \"country_of_birth_self\",\n",
    "    \"citizenship\",\n",
    "    \"own_business_or_self_employed\",\n",
    "    \"fill_inc_questionnaire_for_veterans_admin\",\n",
    "    \"veterans_benefits\",\n",
    "    \"weeks_worked_in_year\",\n",
    "    \"year\",\n",
    "    \"income_bucket\"\n",
    "]"
   ]
  },
  {
   "cell_type": "code",
   "execution_count": 285,
   "metadata": {
    "collapsed": false
   },
   "outputs": [],
   "source": [
    "df_train.columns = list_var\n",
    "df_test.columns = list_var\n",
    "\n",
    "Y_train= df_train['income_bucket']\n",
    "Y_test= df_test['income_bucket']"
   ]
  },
  {
   "cell_type": "code",
   "execution_count": null,
   "metadata": {
    "collapsed": false
   },
   "outputs": [],
   "source": []
  },
  {
   "cell_type": "code",
   "execution_count": 286,
   "metadata": {
    "collapsed": true
   },
   "outputs": [],
   "source": [
    "list_var_num = [\n",
    "    \"age\",\n",
    "    \"wage_per_hour\",\n",
    "    \"capital_gains\",\n",
    "    \"capital_losses\",\n",
    "    \"dividends_from_stocks\",\n",
    "    \"num_persons_worked_for_employer\",\n",
    "    \"weeks_worked_in_year\"\n",
    "]\n",
    "list_var_cat =  [x for x in list_var if x not in list_var_num]"
   ]
  },
  {
   "cell_type": "code",
   "execution_count": 287,
   "metadata": {
    "collapsed": false
   },
   "outputs": [
    {
     "name": "stdout",
     "output_type": "stream",
     "text": [
      "(199523, 40)\n",
      "(99762, 40)\n",
      "33\n"
     ]
    }
   ],
   "source": [
    "list_var_cat.remove(\"instance_weight\")\n",
    "list_var_cat.remove(\"income_bucket\")\n",
    "df_train=df_train.drop('instance_weight', 1)\n",
    "df_test=df_test.drop('instance_weight', 1)\n",
    "df_train=df_train.drop('income_bucket', 1)\n",
    "df_test=df_test.drop('income_bucket', 1)\n",
    "\n",
    "print df_train.shape\n",
    "print df_test.shape\n",
    "print len(list_var_cat)"
   ]
  },
  {
   "cell_type": "code",
   "execution_count": null,
   "metadata": {
    "collapsed": true
   },
   "outputs": [],
   "source": []
  },
  {
   "cell_type": "code",
   "execution_count": 288,
   "metadata": {
    "collapsed": false
   },
   "outputs": [
    {
     "name": "stdout",
     "output_type": "stream",
     "text": [
      "(199523, 374)\n",
      "(99762, 373)\n"
     ]
    }
   ],
   "source": [
    "import patsy\n",
    "patsy_cat_formula = \"\"\n",
    "for var in list_var_cat:\n",
    "    if not patsy_cat_formula:\n",
    "        patsy_cat_formula = var\n",
    "    else:\n",
    "        patsy_cat_formula = patsy_cat_formula + \"+\" + var\n",
    "\n",
    "df_train_cat = patsy.dmatrix(patsy_cat_formula+\"-1\", data=df_train, return_type='dataframe')\n",
    "df_test_cat = patsy.dmatrix(patsy_cat_formula+\"-1\", data=df_test, return_type='dataframe')\n",
    "\n",
    "print df_train_cat.shape\n",
    "print df_test_cat.shape"
   ]
  },
  {
   "cell_type": "code",
   "execution_count": 289,
   "metadata": {
    "collapsed": false
   },
   "outputs": [],
   "source": [
    "df_test_cat['detailed_household_and_family_stat[T. Grandchild <18 ever marr not in subfamily]']=0"
   ]
  },
  {
   "cell_type": "code",
   "execution_count": 290,
   "metadata": {
    "collapsed": false
   },
   "outputs": [
    {
     "name": "stdout",
     "output_type": "stream",
     "text": [
      "(199523, 374)\n",
      "(99762, 374)\n"
     ]
    }
   ],
   "source": [
    "print df_train_cat.shape\n",
    "print df_test_cat.shape"
   ]
  },
  {
   "cell_type": "code",
   "execution_count": 291,
   "metadata": {
    "collapsed": false
   },
   "outputs": [],
   "source": [
    "df_train_model = pd.concat([df_train[list_var_num], df_train_cat], axis=1)\n",
    "df_test_model = pd.concat([df_test[list_var_num], df_test_cat], axis=1)"
   ]
  },
  {
   "cell_type": "code",
   "execution_count": null,
   "metadata": {
    "collapsed": false
   },
   "outputs": [],
   "source": []
  },
  {
   "cell_type": "code",
   "execution_count": 292,
   "metadata": {
    "collapsed": false
   },
   "outputs": [
    {
     "name": "stdout",
     "output_type": "stream",
     "text": [
      "(199523, 381)\n",
      "(199523, 40)\n",
      "(99762, 381)\n",
      "(99762, 40)\n"
     ]
    }
   ],
   "source": [
    "print df_train_model.shape\n",
    "print df_train.shape\n",
    "print df_test_model.shape\n",
    "print df_test.shape\n",
    "#seems like df_test is missing a value in one of its categoric variables (376 = 375 + 1)"
   ]
  },
  {
   "cell_type": "code",
   "execution_count": 293,
   "metadata": {
    "collapsed": false
   },
   "outputs": [],
   "source": [
    "from sklearn import preprocessing\n",
    "\n",
    "X_train = preprocessing.scale(df_train_model)\n",
    "X_test = preprocessing.scale(df_test_model)\n",
    "Y_train_bn = Y_train.replace(' - 50000.',0)\n",
    "Y_train_bn = Y_train_bn.replace(' 50000+.',1)\n",
    "Y_test_bn = Y_test.replace(' - 50000.',0)\n",
    "Y_test_bn = Y_test_bn.replace(' 50000+.',1)"
   ]
  },
  {
   "cell_type": "code",
   "execution_count": null,
   "metadata": {
    "collapsed": false
   },
   "outputs": [],
   "source": []
  },
  {
   "cell_type": "code",
   "execution_count": 296,
   "metadata": {
    "collapsed": true
   },
   "outputs": [],
   "source": [
    "from sklearn import linear_model\n",
    "logistic = linear_model.LogisticRegression(penalty='l1')"
   ]
  },
  {
   "cell_type": "code",
   "execution_count": 297,
   "metadata": {
    "collapsed": false
   },
   "outputs": [
    {
     "name": "stderr",
     "output_type": "stream",
     "text": [
      "/Users/dkh320/anaconda2/lib/python2.7/site-packages/sklearn/utils/__init__.py:93: DeprecationWarning: Function transform is deprecated; Support to use estimators as feature selectors will be removed in version 0.19. Use SelectFromModel instead.\n",
      "  warnings.warn(msg, category=DeprecationWarning)\n"
     ]
    }
   ],
   "source": [
    "X_new = logistic.fit_transform(X_train,Y_train_bn)"
   ]
  },
  {
   "cell_type": "code",
   "execution_count": 299,
   "metadata": {
    "collapsed": false
   },
   "outputs": [
    {
     "data": {
      "text/plain": [
       "(199523, 342)"
      ]
     },
     "execution_count": 299,
     "metadata": {},
     "output_type": "execute_result"
    }
   ],
   "source": [
    "X_new.shape\n",
    "#logisticsticstic.fit()"
   ]
  },
  {
   "cell_type": "code",
   "execution_count": 312,
   "metadata": {
    "collapsed": false
   },
   "outputs": [
    {
     "data": {
      "text/plain": [
       "array([  1.00000000e-04,   1.00000000e-02,   1.00000000e+00,\n",
       "         1.00000000e+02,   1.00000000e+04])"
      ]
     },
     "execution_count": 312,
     "metadata": {},
     "output_type": "execute_result"
    }
   ],
   "source": [
    "np.logspace(-4, 4, 5)"
   ]
  },
  {
   "cell_type": "code",
   "execution_count": 309,
   "metadata": {
    "collapsed": false
   },
   "outputs": [
    {
     "data": {
      "text/plain": [
       "array([False, False, False, False, False, False, False, False, False,\n",
       "       False, False, False, False, False, False, False, False, False,\n",
       "       False, False, False, False, False, False, False, False, False,\n",
       "       False, False, False, False, False, False, False, False, False,\n",
       "       False, False, False, False, False, False, False, False, False,\n",
       "       False, False, False, False, False, False, False, False, False,\n",
       "       False, False, False, False, False, False, False, False, False,\n",
       "       False, False, False, False, False, False, False, False, False,\n",
       "       False, False, False, False, False, False, False, False, False,\n",
       "       False, False, False, False, False, False, False, False, False,\n",
       "       False, False, False, False, False, False, False, False, False,\n",
       "       False, False, False, False, False, False, False, False, False,\n",
       "       False, False, False,  True,  True, False,  True, False, False,\n",
       "       False, False, False, False, False, False, False, False, False,\n",
       "       False, False, False, False,  True, False, False, False, False,\n",
       "       False, False, False, False, False, False, False, False, False,\n",
       "       False, False, False, False, False, False,  True, False, False,\n",
       "       False, False, False, False, False, False, False, False, False,\n",
       "       False, False, False, False, False, False, False, False,  True,\n",
       "       False,  True,  True,  True, False, False, False, False, False,\n",
       "        True,  True,  True,  True,  True, False, False, False, False,\n",
       "       False, False, False, False,  True,  True,  True,  True,  True,\n",
       "       False, False, False, False,  True, False, False, False,  True,\n",
       "        True,  True,  True, False, False, False, False,  True, False,\n",
       "       False,  True, False, False, False, False, False, False,  True,\n",
       "        True,  True, False,  True, False, False, False, False,  True,\n",
       "        True, False, False,  True, False, False,  True, False,  True,\n",
       "       False, False, False, False, False, False, False, False, False,\n",
       "       False, False, False, False, False, False, False, False, False,\n",
       "       False, False, False, False, False, False, False, False, False,\n",
       "        True, False, False, False, False, False, False, False, False,\n",
       "       False, False, False, False, False, False, False, False, False,\n",
       "       False, False, False, False, False, False, False, False, False,\n",
       "       False, False, False, False, False, False, False, False, False,\n",
       "       False, False, False, False, False, False, False, False, False,\n",
       "       False, False, False, False, False, False, False, False, False,\n",
       "       False, False, False, False, False, False, False, False, False,\n",
       "       False, False, False, False, False, False, False, False, False,\n",
       "       False, False, False, False, False, False, False, False, False,\n",
       "       False, False, False, False, False, False, False, False, False,\n",
       "       False,  True, False, False, False, False, False, False, False,\n",
       "       False, False, False, False,  True, False, False, False, False,\n",
       "       False,  True, False], dtype=bool)"
      ]
     },
     "execution_count": 309,
     "metadata": {},
     "output_type": "execute_result"
    }
   ],
   "source": [
    "logistic.coef_[0] == 0.0"
   ]
  },
  {
   "cell_type": "code",
   "execution_count": 234,
   "metadata": {
    "collapsed": true
   },
   "outputs": [],
   "source": [
    "Y_test_predict = logistic.predict(X_test)"
   ]
  },
  {
   "cell_type": "code",
   "execution_count": null,
   "metadata": {
    "collapsed": true
   },
   "outputs": [],
   "source": []
  },
  {
   "cell_type": "code",
   "execution_count": null,
   "metadata": {
    "collapsed": true
   },
   "outputs": [],
   "source": []
  },
  {
   "cell_type": "code",
   "execution_count": 235,
   "metadata": {
    "collapsed": false
   },
   "outputs": [],
   "source": [
    "from sklearn.metrics import accuracy_score, precision_score,recall_score,f1_score\n",
    "from sklearn import cross_validation"
   ]
  },
  {
   "cell_type": "code",
   "execution_count": null,
   "metadata": {
    "collapsed": false
   },
   "outputs": [],
   "source": []
  },
  {
   "cell_type": "code",
   "execution_count": 236,
   "metadata": {
    "collapsed": false
   },
   "outputs": [],
   "source": [
    "ac_scores = cross_validation.cross_val_score(logistic, X_train, Y_train, cv=5, scoring='accuracy')\n",
    "pr_scores = cross_validation.cross_val_score(logistic, X_train, Y_train_bn, cv=5, scoring='precision')\n",
    "rc_scores = cross_validation.cross_val_score(logistic, X_train, Y_train_bn, cv=5, scoring='recall')\n",
    "f1_scores = cross_validation.cross_val_score(logistic, X_train, Y_train_bn, cv=5, scoring='f1')"
   ]
  },
  {
   "cell_type": "code",
   "execution_count": 237,
   "metadata": {
    "collapsed": false
   },
   "outputs": [
    {
     "name": "stdout",
     "output_type": "stream",
     "text": [
      "[ 0.95246329  0.9520862   0.9519597   0.95185946  0.95271151]\n",
      "[ 0.71260997  0.71714066  0.7154973   0.71199389  0.72159518]\n",
      "[ 0.39241017  0.37666532  0.37479806  0.37641357  0.38731826]\n",
      "[ 0.5061182   0.49391212  0.49191625  0.49247028  0.50407359]\n"
     ]
    }
   ],
   "source": [
    "print ac_scores\n",
    "print pr_scores\n",
    "print rc_scores\n",
    "print f1_scores"
   ]
  },
  {
   "cell_type": "code",
   "execution_count": 247,
   "metadata": {
    "collapsed": false
   },
   "outputs": [
    {
     "name": "stdout",
     "output_type": "stream",
     "text": [
      "0.0633207032738\n",
      "0.0620803179797\n",
      "0.999838344649\n",
      "0.116902140528\n"
     ]
    }
   ],
   "source": [
    "print accuracy_score(Y_test_bn,Y_test_predict)\n",
    "print precision_score(Y_test_bn,Y_test_predict)\n",
    "print recall_score(Y_test_bn,Y_test_predict)\n",
    "print f1_score(Y_test_bn,Y_test_predict)"
   ]
  },
  {
   "cell_type": "code",
   "execution_count": 258,
   "metadata": {
    "collapsed": false
   },
   "outputs": [
    {
     "name": "stdout",
     "output_type": "stream",
     "text": [
      "381\n"
     ]
    }
   ],
   "source": [
    "import numpy as np\n",
    "np.sort(logistic.coef_[0])[-1]\n",
    "\n",
    "print len(logistic.coef_[0])"
   ]
  },
  {
   "cell_type": "code",
   "execution_count": 273,
   "metadata": {
    "collapsed": false
   },
   "outputs": [],
   "source": [
    "c_p={}\n",
    "for i in range(len(df_test_model.columns)):\n",
    "    c_p[str(df_train_model.columns[i])] = abs(logistic.coef_[0][i])"
   ]
  },
  {
   "cell_type": "code",
   "execution_count": 275,
   "metadata": {
    "collapsed": false
   },
   "outputs": [],
   "source": [
    "from operator import itemgetter\n",
    "sorted_d=sorted(c_p.items(), key=itemgetter(1))"
   ]
  },
  {
   "cell_type": "code",
   "execution_count": 282,
   "metadata": {
    "collapsed": false
   },
   "outputs": [
    {
     "data": {
      "text/plain": [
       "[('citizenship[T. Native- Born in Puerto Rico or U S Outlying]',\n",
       "  1.6293648136111485),\n",
       " ('citizenship[T. Native- Born in the United States]', 1.6560947421414585),\n",
       " ('age', 1.6749252556703524),\n",
       " ('fill_inc_questionnaire_for_veterans_admin[T. Not in universe]',\n",
       "  1.8021506339316886),\n",
       " ('fill_inc_questionnaire_for_veterans_admin[T. Yes]', 1.9021515979729247),\n",
       " ('detailed_industry_recode', 1.9021515979729247),\n",
       " ('detailed_occupation_recode', 2.2184839823284324),\n",
       " ('own_business_or_self_employed', 2.7303296020555345),\n",
       " ('veterans_benefits', 3.0176606859479649),\n",
       " ('year', 3.022768678851365)]"
      ]
     },
     "execution_count": 282,
     "metadata": {},
     "output_type": "execute_result"
    }
   ],
   "source": [
    "sorted_d[-10:]"
   ]
  },
  {
   "cell_type": "code",
   "execution_count": 280,
   "metadata": {
    "collapsed": false
   },
   "outputs": [
    {
     "data": {
      "text/plain": [
       "[('detailed_household_summary_in_household[T. Other relative of householder]',\n",
       "  2.48692624257026e-05),\n",
       " ('detailed_household_summary_in_household[T. Nonrelative of householder]',\n",
       "  2.6760336518954841e-05),\n",
       " ('detailed_household_summary_in_household[T. Householder]',\n",
       "  4.2529435657099309e-05),\n",
       " ('detailed_household_summary_in_household[T. Group Quarters- Secondary individual]',\n",
       "  6.2540630851576633e-05),\n",
       " ('detailed_household_summary_in_household[T. Child under 18 never married]',\n",
       "  7.4210442144908992e-05),\n",
       " ('detailed_household_summary_in_household[T. Child under 18 ever married]',\n",
       "  8.9604147219361381e-05),\n",
       " ('detailed_household_summary_in_household[T. Spouse of householder]',\n",
       "  9.9325492929337175e-05),\n",
       " ('migration_code_change_in_msa[T. Abroad to MSA]', 0.00018029629791836344),\n",
       " ('detailed_household_and_family_stat[T. Spouse of householder]',\n",
       "  0.00022021899694060748),\n",
       " ('detailed_household_and_family_stat[T. Spouse of RP of unrelated subfamily]',\n",
       "  0.00023859698721968763),\n",
       " ('detailed_household_and_family_stat[T. Secondary individual]',\n",
       "  0.00045972382066916282),\n",
       " ('migration_code_change_in_msa[T. Abroad to nonMSA]', 0.00058276325413939196),\n",
       " ('detailed_household_and_family_stat[T. RP of unrelated subfamily]',\n",
       "  0.0023865346335666402),\n",
       " ('migration_code_change_in_msa[T. MSA to MSA]', 0.0027803824974882208),\n",
       " ('migration_code_change_in_msa[T. MSA to nonMSA]', 0.0039214501925340884),\n",
       " ('detailed_household_and_family_stat[T. Other Rel <18 spouse of subfamily RP]',\n",
       "  0.0040093444421526623),\n",
       " ('detailed_household_and_family_stat[T. Other Rel <18 never married RP of subfamily]',\n",
       "  0.004782570451259377),\n",
       " ('detailed_household_and_family_stat[T. Other Rel <18 never marr not in subfamily]',\n",
       "  0.005741037141189319),\n",
       " ('migration_code_change_in_msa[T. NonMSA to MSA]', 0.0077844074096172743),\n",
       " ('detailed_household_and_family_stat[T. Other Rel <18 never marr child of subfamily RP]',\n",
       "  0.0081901124056075348),\n",
       " ('detailed_household_and_family_stat[T. Other Rel <18 ever marr not in subfamily]',\n",
       "  0.0097253554143935331),\n",
       " ('detailed_household_and_family_stat[T. Other Rel <18 ever marr RP of subfamily]',\n",
       "  0.0098912265147982816),\n",
       " ('detailed_household_and_family_stat[T. Other Rel 18+ never marr RP of subfamily]',\n",
       "  0.011803901364083748),\n",
       " ('detailed_household_and_family_stat[T. Other Rel 18+ never marr not in subfamily]',\n",
       "  0.011803901364083748),\n",
       " ('detailed_household_and_family_stat[T. Other Rel 18+ spouse of subfamily RP]',\n",
       "  0.011803901364083748),\n",
       " ('detailed_household_and_family_stat[T. Other Rel 18+ ever marr not in subfamily]',\n",
       "  0.012512269591016355),\n",
       " ('detailed_household_and_family_stat[T. Other Rel 18+ ever marr RP of subfamily]',\n",
       "  0.013045616740845133),\n",
       " ('migration_code_change_in_msa[T. NonMSA to nonMSA]', 0.013923087099264372),\n",
       " ('detailed_household_and_family_stat[T. Nonfamily householder]',\n",
       "  0.014626459621348536),\n",
       " ('migration_code_change_in_msa[T. Not identifiable]', 0.017375692847366207),\n",
       " ('migration_code_change_in_msa[T. Nonmover]', 0.017375692847366207),\n",
       " ('detailed_household_and_family_stat[T. In group quarters]',\n",
       "  0.018657751665378301),\n",
       " ('detailed_household_and_family_stat[T. Householder]', 0.019179182436192641),\n",
       " ('detailed_household_and_family_stat[T. Grandchild <18 never marr not in subfamily]',\n",
       "  0.021292582925988294),\n",
       " ('detailed_household_and_family_stat[T. Grandchild <18 never marr RP of subfamily]',\n",
       "  0.021929060598900176),\n",
       " ('detailed_household_and_family_stat[T. Grandchild <18 never marr child of subfamily RP]',\n",
       "  0.021929060598900176),\n",
       " ('detailed_household_and_family_stat[T. Grandchild <18 ever marr not in subfamily]',\n",
       "  0.022119552110073912),\n",
       " ('detailed_household_and_family_stat[T. Grandchild 18+ spouse of subfamily RP]',\n",
       "  0.023831268582226225),\n",
       " ('migration_code_change_in_msa[T. Not in universe]', 0.02396821024120167),\n",
       " ('migration_code_change_in_reg[T. Abroad]', 0.024400097671883118),\n",
       " ('detailed_household_and_family_stat[T. Grandchild 18+ never marr not in subfamily]',\n",
       "  0.025025702582818991),\n",
       " ('detailed_household_and_family_stat[T. Grandchild 18+ never marr RP of subfamily]',\n",
       "  0.025378386218420191),\n",
       " ('migration_code_change_in_reg[T. Different county same state]',\n",
       "  0.025401868201094809),\n",
       " ('migration_code_change_in_reg[T. Different division same region]',\n",
       "  0.027781473677073915),\n",
       " ('detailed_household_and_family_stat[T. Grandchild 18+ ever marr not in subfamily]',\n",
       "  0.028509658077649672),\n",
       " ('detailed_household_and_family_stat[T. Grandchild 18+ ever marr RP of subfamily]',\n",
       "  0.028639340339801769),\n",
       " ('detailed_household_and_family_stat[T. Child under 18 of RP of unrel subfamily]',\n",
       "  0.029089185630243319),\n",
       " ('detailed_household_and_family_stat[T. Child <18 spouse of subfamily RP]',\n",
       "  0.030611283060617566),\n",
       " ('detailed_household_and_family_stat[T. Child <18 never marr not in subfamily]',\n",
       "  0.030644830441509334),\n",
       " ('detailed_household_and_family_stat[T. Child <18 never marr RP of subfamily]',\n",
       "  0.031005277012864429),\n",
       " ('migration_code_change_in_reg[T. Different region]', 0.031139287780676317),\n",
       " ('detailed_household_and_family_stat[T. Child <18 ever marr not in subfamily]',\n",
       "  0.031446283048825678),\n",
       " ('migration_code_change_in_reg[T. Different state same division]',\n",
       "  0.033159865362871591),\n",
       " ('detailed_household_and_family_stat[T. Child <18 ever marr RP of subfamily]',\n",
       "  0.036112316834239634),\n",
       " ('detailed_household_and_family_stat[T. Child 18+ spouse of subfamily RP]',\n",
       "  0.036604088656470371),\n",
       " ('detailed_household_and_family_stat[T. Child 18+ never marr RP of subfamily]',\n",
       "  0.037588843243764838),\n",
       " ('migration_code_change_in_reg[T. Nonmover]', 0.037740499927278529),\n",
       " ('migration_code_change_in_reg[T. Not in universe]', 0.0382774710067732),\n",
       " ('migration_code_change_in_reg[T. Same county]', 0.039764557536950643),\n",
       " ('migration_code_move_within_reg[T. Abroad]', 0.039764557536950643),\n",
       " ('migration_code_move_within_reg[T. Different county same state]',\n",
       "  0.03997955518145066),\n",
       " ('migration_code_move_within_reg[T. Different state in Midwest]',\n",
       "  0.040033441675773426),\n",
       " ('detailed_household_and_family_stat[T. Child 18+ never marr Not in a subfamily]',\n",
       "  0.043541011691231833),\n",
       " ('detailed_household_and_family_stat[T. Child 18+ ever marr RP of subfamily]',\n",
       "  0.046065921807975058),\n",
       " ('state_of_previous_residence[T. Wyoming]', 0.04646508328066723),\n",
       " ('migration_code_move_within_reg[T. Different state in Northeast]',\n",
       "  0.04676675907055252),\n",
       " ('state_of_previous_residence[T. Wisconsin]', 0.048927164505393632),\n",
       " ('migration_code_move_within_reg[T. Different state in South]',\n",
       "  0.053300100277387741),\n",
       " ('migration_code_move_within_reg[T. Different state in West]',\n",
       "  0.054343750858397634),\n",
       " ('state_of_previous_residence[T. West Virginia]', 0.054377083397170393),\n",
       " ('state_of_previous_residence[T. Virginia]', 0.054568542627327361),\n",
       " ('migration_code_move_within_reg[T. Nonmover]', 0.05538505606982233),\n",
       " ('migration_code_move_within_reg[T. Not in universe]', 0.061464610712233837),\n",
       " ('migration_code_move_within_reg[T. Same county]', 0.062052087905581102),\n",
       " ('live_in_this_house_1_year_ago[T. Not in universe under 1 year old]',\n",
       "  0.064092867337563364),\n",
       " ('state_of_previous_residence[T. Vermont]', 0.066583124635281363),\n",
       " ('live_in_this_house_1_year_ago[T. Yes]', 0.06820934320455016),\n",
       " ('migration_prev_res_in_sunbelt[T. No]', 0.071681593442651612),\n",
       " ('state_of_previous_residence[T. Utah]', 0.074146608234933603),\n",
       " ('state_of_previous_residence[T. Texas]', 0.076779570835509584),\n",
       " ('state_of_previous_residence[T. Tennessee]', 0.07680578607010477),\n",
       " ('migration_prev_res_in_sunbelt[T. Not in universe]', 0.078212813049685317),\n",
       " ('migration_prev_res_in_sunbelt[T. Yes]', 0.079665264016371334),\n",
       " ('state_of_previous_residence[T. South Dakota]', 0.080936164901051655),\n",
       " ('family_members_under_18[T. Father only present]', 0.084945195014320227),\n",
       " ('family_members_under_18[T. Mother only present]', 0.085789837447561024),\n",
       " ('state_of_previous_residence[T. South Carolina]', 0.085824847092003692),\n",
       " ('state_of_previous_residence[T. Pennsylvania]', 0.090504877841539627),\n",
       " ('state_of_previous_residence[T. Oregon]', 0.091504999602027348),\n",
       " ('state_of_previous_residence[T. Oklahoma]', 0.093049593925253582),\n",
       " ('state_of_previous_residence[T. Ohio]', 0.09446225244421777),\n",
       " ('state_of_previous_residence[T. Not in universe]', 0.09458386982302748),\n",
       " ('state_of_previous_residence[T. North Dakota]', 0.096478223126231236),\n",
       " ('state_of_previous_residence[T. North Carolina]', 0.098360278907603502),\n",
       " ('state_of_previous_residence[T. New York]', 0.09937132306476959),\n",
       " ('state_of_previous_residence[T. New Mexico]', 0.10021230240044419),\n",
       " ('state_of_previous_residence[T. New Jersey]', 0.10285029267534934),\n",
       " ('family_members_under_18[T. Neither parent present]', 0.10452909406432884),\n",
       " ('family_members_under_18[T. Not in universe]', 0.10460813997201389),\n",
       " ('country_of_birth_father[T. Cambodia]', 0.10482439384822004),\n",
       " ('country_of_birth_father[T. Canada]', 0.10585634870821453),\n",
       " ('state_of_previous_residence[T. New Hampshire]', 0.10644279566768691),\n",
       " ('country_of_birth_father[T. China]', 0.10842208405451394),\n",
       " ('state_of_previous_residence[T. Nevada]', 0.10947217661759326),\n",
       " ('state_of_previous_residence[T. Nebraska]', 0.1098424517816072),\n",
       " ('country_of_birth_father[T. Columbia]', 0.11021970440106449),\n",
       " ('state_of_previous_residence[T. Montana]', 0.11083756689088056),\n",
       " ('state_of_previous_residence[T. Missouri]', 0.11229429352495682),\n",
       " ('state_of_previous_residence[T. Mississippi]', 0.11292466763478877),\n",
       " ('country_of_birth_father[T. Cuba]', 0.11351882065943905),\n",
       " ('state_of_previous_residence[T. Minnesota]', 0.11420833471221026),\n",
       " ('state_of_previous_residence[T. Michigan]', 0.11513353184207374),\n",
       " ('state_of_previous_residence[T. Massachusetts]', 0.11521032323271466),\n",
       " ('state_of_previous_residence[T. Maryland]', 0.11624744785157665),\n",
       " ('country_of_birth_father[T. Dominican-Republic]', 0.12011491391961837),\n",
       " ('country_of_birth_father[T. England]', 0.12022598542117581),\n",
       " ('country_of_birth_father[T. El-Salvador]', 0.12022598542117581),\n",
       " ('country_of_birth_father[T. France]', 0.12022598542117581),\n",
       " ('country_of_birth_father[T. Ecuador]', 0.12022598542117581),\n",
       " ('country_of_birth_father[T. Germany]', 0.12069975213279928),\n",
       " ('state_of_previous_residence[T. Maine]', 0.12407221296258363),\n",
       " ('state_of_previous_residence[T. Louisiana]', 0.12414626043133287),\n",
       " ('state_of_previous_residence[T. Kentucky]', 0.12763173604918035),\n",
       " ('country_of_birth_father[T. Greece]', 0.12875420736231782),\n",
       " ('country_of_birth_father[T. Guatemala]', 0.13051744437833962),\n",
       " ('state_of_previous_residence[T. Kansas]', 0.14103472697788227),\n",
       " ('state_of_previous_residence[T. Iowa]', 0.14207938324418024),\n",
       " ('state_of_previous_residence[T. Indiana]', 0.14231275414284264),\n",
       " ('state_of_previous_residence[T. Illinois]', 0.14292091065750914),\n",
       " ('state_of_previous_residence[T. Idaho]', 0.14567168048943571),\n",
       " ('state_of_previous_residence[T. Georgia]', 0.14586716356940965),\n",
       " ('country_of_birth_father[T. Haiti]', 0.14912044629638796),\n",
       " ('country_of_birth_father[T. Holand-Netherlands]', 0.15104134560997085),\n",
       " ('state_of_previous_residence[T. Florida]', 0.15167983907327162),\n",
       " ('country_of_birth_father[T. Honduras]', 0.15381782363859592),\n",
       " ('country_of_birth_father[T. Hong Kong]', 0.15684690146931887),\n",
       " ('state_of_previous_residence[T. District of Columbia]', 0.15797648160015954),\n",
       " ('state_of_previous_residence[T. Delaware]', 0.15961393112210417),\n",
       " ('country_of_birth_father[T. Hungary]', 0.16020506806841411),\n",
       " ('state_of_previous_residence[T. Connecticut]', 0.16044047933771516),\n",
       " ('state_of_previous_residence[T. Colorado]', 0.16392325468966631),\n",
       " ('country_of_birth_father[T. India]', 0.16666646344966243),\n",
       " ('country_of_birth_father[T. Iran]', 0.16704343404933808),\n",
       " ('state_of_previous_residence[T. California]', 0.16850258421185516),\n",
       " ('state_of_previous_residence[T. Arkansas]', 0.16909444438321192),\n",
       " ('state_of_previous_residence[T. Arizona]', 0.17080104920860556),\n",
       " ('state_of_previous_residence[T. Alaska]', 0.171249848957021),\n",
       " ('state_of_previous_residence[T. Alabama]', 0.17213602575837506),\n",
       " ('state_of_previous_residence[T. Abroad]', 0.17568735736982513),\n",
       " ('country_of_birth_father[T. Ireland]', 0.17660859053649072),\n",
       " ('country_of_birth_father[T. Italy]', 0.17752934536163717),\n",
       " ('region_of_previous_residence[T. West]', 0.17930591066941989),\n",
       " ('country_of_birth_father[T. Jamaica]', 0.18066076955662289),\n",
       " ('country_of_birth_father[T. Japan]', 0.18210385656992334),\n",
       " ('region_of_previous_residence[T. South]', 0.1838170942541055),\n",
       " ('region_of_previous_residence[T. Northeast]', 0.184654054661052),\n",
       " ('region_of_previous_residence[T. Not in universe]', 0.184654054661052),\n",
       " ('country_of_birth_father[T. Laos]', 0.18513296303373789),\n",
       " ('country_of_birth_father[T. Mexico]', 0.18585693114576388),\n",
       " ('region_of_previous_residence[T. Midwest]', 0.18749659897773607),\n",
       " ('tax_filer_stat[T. Single]', 0.18798756181329085),\n",
       " ('tax_filer_stat[T. Nonfiler]', 0.18828868556674797),\n",
       " ('tax_filer_stat[T. Joint one under 65 & one 65+]', 0.18836253596652117),\n",
       " ('tax_filer_stat[T. Joint both under 65]', 0.18932309931152563),\n",
       " ('country_of_birth_father[T. Nicaragua]', 0.19173849258400832),\n",
       " ('tax_filer_stat[T. Joint both 65+]', 0.19618721208825404),\n",
       " ('full_or_part_time_employment_stat[T. Unemployed part- time]',\n",
       "  0.19767765481660357),\n",
       " ('full_or_part_time_employment_stat[T. Unemployed full-time]',\n",
       "  0.2025631221275096),\n",
       " ('full_or_part_time_employment_stat[T. PT for non-econ reasons usually FT]',\n",
       "  0.20342592619715483),\n",
       " ('full_or_part_time_employment_stat[T. PT for econ reasons usually PT]',\n",
       "  0.20420689272584175),\n",
       " ('country_of_birth_father[T. Outlying-U S (Guam USVI etc)]',\n",
       "  0.20481339949665844),\n",
       " ('full_or_part_time_employment_stat[T. PT for econ reasons usually FT]',\n",
       "  0.20669817891376827),\n",
       " ('country_of_birth_father[T. Panama]', 0.20734121165054686),\n",
       " ('full_or_part_time_employment_stat[T. Not in labor force]',\n",
       "  0.20739641650398197),\n",
       " ('full_or_part_time_employment_stat[T. Full-time schedules]',\n",
       "  0.21092293033463588),\n",
       " ('country_of_birth_father[T. Peru]', 0.21123995763933681),\n",
       " ('country_of_birth_father[T. Philippines]', 0.21377020037843553),\n",
       " ('reason_for_unemployment[T. Re-entrant]', 0.21734120461366613),\n",
       " ('country_of_birth_father[T. Poland]', 0.22034545045447326),\n",
       " ('country_of_birth_father[T. Portugal]', 0.22187009821074763),\n",
       " ('reason_for_unemployment[T. Other job loser]', 0.22471777079400801),\n",
       " ('country_of_birth_father[T. Puerto-Rico]', 0.22516262326805661),\n",
       " ('country_of_birth_father[T. Scotland]', 0.22590197711216267),\n",
       " ('reason_for_unemployment[T. Not in universe]', 0.22734951232179526),\n",
       " ('reason_for_unemployment[T. New entrant]', 0.22869637176664254),\n",
       " ('reason_for_unemployment[T. Job loser - on layoff]', 0.23051506823573181),\n",
       " ('country_of_birth_father[T. South Korea]', 0.23241791151370214),\n",
       " ('member_of_a_labor_union[T. Yes]', 0.2340340116007944),\n",
       " ('country_of_birth_father[T. Taiwan]', 0.23646799968223298),\n",
       " ('country_of_birth_father[T. Thailand]', 0.23765895160062145),\n",
       " ('member_of_a_labor_union[T. Not in universe]', 0.23863739068365908),\n",
       " ('country_of_birth_father[T. Trinadad&Tobago]', 0.23955430760257798),\n",
       " ('country_of_birth_father[T. United-States]', 0.24501396603945452),\n",
       " ('sex[T. Male]', 0.2548445115900696),\n",
       " ('country_of_birth_father[T. Vietnam]', 0.25485608240156876),\n",
       " ('hispanic_origin[T. Puerto Rican]', 0.25628500391099385),\n",
       " ('country_of_birth_father[T. Yugoslavia]', 0.25680079406971157),\n",
       " ('hispanic_origin[T. NA]', 0.25892940314963214),\n",
       " ('hispanic_origin[T. Other Spanish]', 0.25892940314963214),\n",
       " ('hispanic_origin[T. Mexican-American]', 0.26162772570935766),\n",
       " ('country_of_birth_mother[T. Cambodia]', 0.26225942502787875),\n",
       " ('country_of_birth_mother[T. Canada]', 0.26843198427277848),\n",
       " ('hispanic_origin[T. Mexican (Mexicano)]', 0.26882246387152503),\n",
       " ('country_of_birth_mother[T. China]', 0.27074148958379307),\n",
       " ('country_of_birth_mother[T. Columbia]', 0.273495934490048),\n",
       " ('country_of_birth_mother[T. Cuba]', 0.2745449579126335),\n",
       " ('country_of_birth_mother[T. Dominican-Republic]', 0.2796208824830852),\n",
       " ('country_of_birth_mother[T. Ecuador]', 0.28092606347633581),\n",
       " ('country_of_birth_mother[T. El-Salvador]', 0.28112332329170464),\n",
       " ('hispanic_origin[T. Do not know]', 0.28217905938483745),\n",
       " ('hispanic_origin[T. Cuban]', 0.28407496562570522),\n",
       " ('hispanic_origin[T. Chicano]', 0.28758043441379877),\n",
       " ('hispanic_origin[T. Central or South American]', 0.29318625395154418),\n",
       " ('country_of_birth_mother[T. England]', 0.29401313429202391),\n",
       " ('race[T. White]', 0.29620184628122437),\n",
       " ('race[T. Other]', 0.30179570073933198),\n",
       " ('country_of_birth_mother[T. France]', 0.30218764326127279),\n",
       " ('country_of_birth_mother[T. Germany]', 0.30230616598760174),\n",
       " ('country_of_birth_mother[T. Greece]', 0.30495141794495162),\n",
       " ('race[T. Black]', 0.30621150887882415),\n",
       " ('race[T. Asian or Pacific Islander]', 0.3063461277325093),\n",
       " ('country_of_birth_mother[T. Guatemala]', 0.30664238714329356),\n",
       " ('major_occupation_code[T. Transportation and material moving]',\n",
       "  0.30676519100085103),\n",
       " ('major_occupation_code[T. Technicians and related support]',\n",
       "  0.30958619604725923),\n",
       " ('major_occupation_code[T. Sales]', 0.31096643414959713),\n",
       " ('major_occupation_code[T. Protective services]', 0.31327457111800977),\n",
       " ('major_occupation_code[T. Professional specialty]', 0.31563751703358034),\n",
       " ('country_of_birth_mother[T. Haiti]', 0.31901472107441131),\n",
       " ('major_occupation_code[T. Private household services]', 0.31937416259110268),\n",
       " ('major_occupation_code[T. Precision production craft & repair]',\n",
       "  0.31953643112928942),\n",
       " ('country_of_birth_mother[T. Holand-Netherlands]', 0.32694326659617506),\n",
       " ('country_of_birth_mother[T. Honduras]', 0.32982465657923343),\n",
       " ('major_occupation_code[T. Other service]', 0.32984517860675333),\n",
       " ('country_of_birth_mother[T. Hong Kong]', 0.33018324993199832),\n",
       " ('country_of_birth_mother[T. Hungary]', 0.33067144100743723),\n",
       " ('major_occupation_code[T. Not in universe]', 0.33116459608487148),\n",
       " ('major_occupation_code[T. Machine operators assmblrs & inspctrs]',\n",
       "  0.33547857076941356),\n",
       " ('country_of_birth_mother[T. India]', 0.33634623057022084),\n",
       " ('country_of_birth_mother[T. Iran]', 0.3366914568832684),\n",
       " ('major_occupation_code[T. Handlers equip cleaners etc ]',\n",
       "  0.33704949192524153),\n",
       " ('major_occupation_code[T. Farming forestry and fishing]',\n",
       "  0.33839051555293714),\n",
       " ('country_of_birth_mother[T. Ireland]', 0.3397985651198433),\n",
       " ('country_of_birth_mother[T. Italy]', 0.34681499552799216),\n",
       " ('major_occupation_code[T. Executive admin and managerial]',\n",
       "  0.34689528238894773),\n",
       " ('major_occupation_code[T. Armed Forces]', 0.34835302462500828),\n",
       " ('major_industry_code[T. Wholesale trade]', 0.34898609359110633),\n",
       " ('country_of_birth_mother[T. Jamaica]', 0.34930173484525034),\n",
       " ('major_industry_code[T. Utilities and sanitary services]',\n",
       "  0.34989034714607287),\n",
       " ('country_of_birth_mother[T. Japan]', 0.35026084506581839),\n",
       " ('major_industry_code[T. Transportation]', 0.35092662554766318),\n",
       " ('major_industry_code[T. Social services]', 0.35979594949118621),\n",
       " ('major_industry_code[T. Retail trade]', 0.36057958491348668),\n",
       " ('country_of_birth_mother[T. Laos]', 0.36140222397125221),\n",
       " ('country_of_birth_mother[T. Mexico]', 0.3618136782642995),\n",
       " ('major_industry_code[T. Public administration]', 0.36653555361341245),\n",
       " ('major_industry_code[T. Private household services]', 0.36735745521667257),\n",
       " ('major_industry_code[T. Personal services except private HH]',\n",
       "  0.37269556745900201),\n",
       " ('major_industry_code[T. Other professional services]', 0.37376016438114562),\n",
       " ('major_industry_code[T. Not in universe or children]', 0.37654142928906542),\n",
       " ('country_of_birth_mother[T. Nicaragua]', 0.38059146348573525),\n",
       " ('country_of_birth_mother[T. Outlying-U S (Guam USVI etc)]',\n",
       "  0.38582259475177361),\n",
       " ('major_industry_code[T. Mining]', 0.38611856874941808),\n",
       " ('country_of_birth_mother[T. Panama]', 0.38688184639712853),\n",
       " ('country_of_birth_mother[T. Peru]', 0.39260378255367967),\n",
       " ('country_of_birth_mother[T. Philippines]', 0.3926593947351642),\n",
       " ('country_of_birth_mother[T. Poland]', 0.39281240191909617),\n",
       " ('country_of_birth_mother[T. Portugal]', 0.39305659489951911),\n",
       " ('country_of_birth_mother[T. Puerto-Rico]', 0.39457847295348392),\n",
       " ('country_of_birth_mother[T. Scotland]', 0.39555053216934372),\n",
       " ('major_industry_code[T. Medical except hospital]', 0.39586109374610601),\n",
       " ('major_industry_code[T. Manufacturing-nondurable goods]',\n",
       "  0.39699606241460067),\n",
       " ('major_industry_code[T. Manufacturing-durable goods]', 0.39999733742013005),\n",
       " ('major_industry_code[T. Hospital services]', 0.4012797814066324),\n",
       " ('major_industry_code[T. Forestry and fisheries]', 0.40468445395303676),\n",
       " ('major_industry_code[T. Finance insurance and real estate]',\n",
       "  0.40929220345832096),\n",
       " ('country_of_birth_mother[T. South Korea]', 0.41168925740271722),\n",
       " ('major_industry_code[T. Entertainment]', 0.41251620254588961),\n",
       " ('country_of_birth_mother[T. Taiwan]', 0.41463819160785481),\n",
       " ('country_of_birth_mother[T. Thailand]', 0.41574965092180571),\n",
       " ('major_industry_code[T. Education]', 0.41882716323613461),\n",
       " ('country_of_birth_mother[T. Trinadad&Tobago]', 0.42082852662641312),\n",
       " ('major_industry_code[T. Construction]', 0.42360341755225372),\n",
       " ('major_industry_code[T. Communications]', 0.42922699329768205),\n",
       " ('major_industry_code[T. Business and repair services]', 0.43011900801839031),\n",
       " ('country_of_birth_mother[T. United-States]', 0.43095886360257196),\n",
       " ('country_of_birth_mother[T. Vietnam]', 0.43467027322363161),\n",
       " ('major_industry_code[T. Armed Forces]', 0.43885736061849195),\n",
       " ('country_of_birth_mother[T. Yugoslavia]', 0.44462962147164159),\n",
       " ('country_of_birth_self[T. Cambodia]', 0.45170716934799998),\n",
       " ('marital_stat[T. Widowed]', 0.45573615744369406),\n",
       " ('marital_stat[T. Separated]', 0.45906789701367529),\n",
       " ('marital_stat[T. Never married]', 0.46480934148152181),\n",
       " ('marital_stat[T. Married-spouse absent]', 0.46876664031364224),\n",
       " ('country_of_birth_self[T. Canada]', 0.47229611149503242),\n",
       " ('marital_stat[T. Married-civilian spouse present]', 0.47290805224901328),\n",
       " ('country_of_birth_self[T. China]', 0.47410081931025044),\n",
       " ('marital_stat[T. Married-A F spouse present]', 0.4782628390386508),\n",
       " ('enroll_in_edu_inst_last_wk[T. Not in universe]', 0.48147709338208988),\n",
       " ('country_of_birth_self[T. Columbia]', 0.48421282384743547),\n",
       " ('country_of_birth_self[T. Cuba]', 0.48791952597289434),\n",
       " ('country_of_birth_self[T. Dominican-Republic]', 0.49107008274678055),\n",
       " ('country_of_birth_self[T. Ecuador]', 0.49338030441654229),\n",
       " ('country_of_birth_self[T. El-Salvador]', 0.49338030441654229),\n",
       " ('enroll_in_edu_inst_last_wk[T. High school]', 0.50278171895133483),\n",
       " ('education[T. Some college but no degree]', 0.5084469195766036),\n",
       " ('country_of_birth_self[T. England]', 0.50853535700856534),\n",
       " ('education[T. Prof school degree (MD DDS DVM LLB JD)]', 0.51011801366324161),\n",
       " ('education[T. Masters degree(MA MS MEng MEd MSW MBA)]', 0.51140316661893004),\n",
       " ('country_of_birth_self[T. France]', 0.52404786607197784),\n",
       " ('education[T. Less than 1st grade]', 0.52480364848697969),\n",
       " ('education[T. High school graduate]', 0.53122826805745382),\n",
       " ('country_of_birth_self[T. Germany]', 0.53383105634749051),\n",
       " ('country_of_birth_self[T. Greece]', 0.53504318228824077),\n",
       " ('education[T. Doctorate degree(PhD EdD)]', 0.54141210922288263),\n",
       " ('country_of_birth_self[T. Guatemala]', 0.54384545565233855),\n",
       " ('country_of_birth_self[T. Haiti]', 0.54659145961282329),\n",
       " ('education[T. Children]', 0.54898597161959362),\n",
       " ('country_of_birth_self[T. Holand-Netherlands]', 0.5493065264315441),\n",
       " ('education[T. Bachelors degree(BA AB BS)]', 0.54969714874888775),\n",
       " ('country_of_birth_self[T. Honduras]', 0.55222812970614965),\n",
       " ('country_of_birth_self[T. Hong Kong]', 0.56045025091798961),\n",
       " ('country_of_birth_self[T. Hungary]', 0.56165242188809827),\n",
       " ('country_of_birth_self[T. India]', 0.57842575147547315),\n",
       " ('country_of_birth_self[T. Iran]', 0.58926872869368263),\n",
       " ('country_of_birth_self[T. Ireland]', 0.61287221569812511),\n",
       " ('country_of_birth_self[T. Italy]', 0.61753260618641548),\n",
       " ('education[T. Associates degree-occup /vocational]', 0.62756099379207309),\n",
       " ('education[T. Associates degree-academic program]', 0.630053460435123),\n",
       " ('education[T. 9th grade]', 0.65564241943965085),\n",
       " ('education[T. 7th and 8th grade]', 0.67639653595577431),\n",
       " ('education[T. 5th or 6th grade]', 0.68232609885281303),\n",
       " ('education[T. 1st 2nd 3rd or 4th grade]', 0.69012473406087749),\n",
       " ('education[T. 12th grade no diploma]', 0.69387189828993323),\n",
       " ('education[T. 11th grade]', 0.71296608901589553),\n",
       " ('class_of_worker[ Without pay]', 0.72388400539782261),\n",
       " ('country_of_birth_self[T. Jamaica]', 0.72883757481481648),\n",
       " ('country_of_birth_self[T. Japan]', 0.72920186301871004),\n",
       " ('country_of_birth_self[T. Laos]', 0.73040209140083967),\n",
       " ('country_of_birth_self[T. Mexico]', 0.73170016416589545),\n",
       " ('class_of_worker[ State government]', 0.7421024794633706),\n",
       " ('country_of_birth_self[T. Nicaragua]', 0.7445658855800027),\n",
       " ('class_of_worker[ Self-employed-not incorporated]', 0.7481273112137482),\n",
       " ('country_of_birth_self[T. Outlying-U S (Guam USVI etc)]',\n",
       "  0.74864659124144139),\n",
       " ('class_of_worker[ Self-employed-incorporated]', 0.75230970756609228),\n",
       " ('class_of_worker[ Private]', 0.76169338343735671),\n",
       " ('country_of_birth_self[T. Panama]', 0.76362353786035142),\n",
       " ('class_of_worker[ Not in universe]', 0.76558943920856803),\n",
       " ('class_of_worker[ Never worked]', 0.77495423150930498),\n",
       " ('class_of_worker[ Local government]', 0.79123984262416791),\n",
       " ('class_of_worker[ Federal government]', 0.82231580304493379),\n",
       " ('weeks_worked_in_year', 0.84332999380071894),\n",
       " ('country_of_birth_self[T. Peru]', 0.84417083474720411),\n",
       " ('country_of_birth_self[T. Philippines]', 0.85296956665589352),\n",
       " ('country_of_birth_self[T. Poland]', 0.87309943303940618),\n",
       " ('country_of_birth_self[T. Portugal]', 0.8854901786875925),\n",
       " ('country_of_birth_self[T. Puerto-Rico]', 0.89337342417494792),\n",
       " ('num_persons_worked_for_employer', 0.90531000984310761),\n",
       " ('country_of_birth_self[T. Scotland]', 0.90909194623056655),\n",
       " ('dividends_from_stocks', 0.92995353522204438),\n",
       " ('country_of_birth_self[T. South Korea]', 0.94129985573499453),\n",
       " ('country_of_birth_self[T. Taiwan]', 0.97179790052786219),\n",
       " ('capital_losses', 0.98142769411577202),\n",
       " ('country_of_birth_self[T. Thailand]', 1.0520583233712681),\n",
       " ('country_of_birth_self[T. Trinadad&Tobago]', 1.1005918396429764),\n",
       " ('country_of_birth_self[T. United-States]', 1.1242643615716756),\n",
       " ('capital_gains', 1.1314855053780988),\n",
       " ('wage_per_hour', 1.1522797918320977),\n",
       " ('country_of_birth_self[T. Vietnam]', 1.292870462706929),\n",
       " ('country_of_birth_self[T. Yugoslavia]', 1.2972210940179809),\n",
       " ('citizenship[T. Foreign born- U S citizen by naturalization]',\n",
       "  1.5865686293629437),\n",
       " ('citizenship[T. Native- Born abroad of American Parent(s)]',\n",
       "  1.6154225117235763),\n",
       " ('citizenship[T. Native- Born in Puerto Rico or U S Outlying]',\n",
       "  1.6293648136111485),\n",
       " ('citizenship[T. Native- Born in the United States]', 1.6560947421414585),\n",
       " ('age', 1.6749252556703524),\n",
       " ('fill_inc_questionnaire_for_veterans_admin[T. Not in universe]',\n",
       "  1.8021506339316886),\n",
       " ('fill_inc_questionnaire_for_veterans_admin[T. Yes]', 1.9021515979729247),\n",
       " ('detailed_industry_recode', 1.9021515979729247),\n",
       " ('detailed_occupation_recode', 2.2184839823284324),\n",
       " ('own_business_or_self_employed', 2.7303296020555345),\n",
       " ('veterans_benefits', 3.0176606859479649),\n",
       " ('year', 3.022768678851365)]"
      ]
     },
     "execution_count": 280,
     "metadata": {},
     "output_type": "execute_result"
    }
   ],
   "source": [
    "sorted_d"
   ]
  },
  {
   "cell_type": "code",
   "execution_count": 127,
   "metadata": {
    "collapsed": false
   },
   "outputs": [
    {
     "name": "stdout",
     "output_type": "stream",
     "text": [
      "detailed_household_and_family_stat[T. Grandchild <18 ever marr not in subfamily]\n"
     ]
    }
   ],
   "source": [
    "for  c in df_train_cat.columns:\n",
    "    if c not in df_test_cat.columns:\n",
    "        print c"
   ]
  },
  {
   "cell_type": "code",
   "execution_count": null,
   "metadata": {
    "collapsed": false
   },
   "outputs": [],
   "source": [
    "\n"
   ]
  },
  {
   "cell_type": "code",
   "execution_count": 197,
   "metadata": {
    "collapsed": false
   },
   "outputs": [
    {
     "name": "stdout",
     "output_type": "stream",
     "text": [
      "Index([u'age', u'wage_per_hour', u'capital_gains', u'capital_losses',\n",
      "       u'dividends_from_stocks', u'num_persons_worked_for_employer',\n",
      "       u'weeks_worked_in_year', u'class_of_worker[ Federal government]',\n",
      "       u'class_of_worker[ Local government]',\n",
      "       u'class_of_worker[ Never worked]',\n",
      "       ...\n",
      "       u'citizenship[T. Native- Born abroad of American Parent(s)]',\n",
      "       u'citizenship[T. Native- Born in Puerto Rico or U S Outlying]',\n",
      "       u'citizenship[T. Native- Born in the United States]',\n",
      "       u'fill_inc_questionnaire_for_veterans_admin[T. Not in universe]',\n",
      "       u'fill_inc_questionnaire_for_veterans_admin[T. Yes]',\n",
      "       u'detailed_industry_recode', u'detailed_occupation_recode',\n",
      "       u'own_business_or_self_employed', u'veterans_benefits', u'year'],\n",
      "      dtype='object', length=381)\n"
     ]
    }
   ],
   "source": [
    "print df_train_model.columns\n",
    "#print df_test_model.shape"
   ]
  },
  {
   "cell_type": "code",
   "execution_count": 59,
   "metadata": {
    "collapsed": false
   },
   "outputs": [],
   "source": [
    "from sklearn.feature_selection import SelectPercentile\n",
    "from sklearn.feature_selection import chi2\n",
    "\n",
    "Y = df_train['income_bucket']\n",
    "X = df_train_model"
   ]
  },
  {
   "cell_type": "code",
   "execution_count": 70,
   "metadata": {
    "collapsed": false
   },
   "outputs": [],
   "source": [
    "ss=SelectPercentile(chi2,percentile=5)"
   ]
  },
  {
   "cell_type": "code",
   "execution_count": 71,
   "metadata": {
    "collapsed": true
   },
   "outputs": [],
   "source": [
    "X_new=ss.fit_transform(X,Y)"
   ]
  },
  {
   "cell_type": "code",
   "execution_count": 100,
   "metadata": {
    "collapsed": false
   },
   "outputs": [],
   "source": [
    "used_columns = df_train_model.columns[ss.get_support()]"
   ]
  },
  {
   "cell_type": "code",
   "execution_count": 102,
   "metadata": {
    "collapsed": false
   },
   "outputs": [
    {
     "data": {
      "text/html": [
       "<div>\n",
       "<table border=\"1\" class=\"dataframe\">\n",
       "  <thead>\n",
       "    <tr style=\"text-align: right;\">\n",
       "      <th></th>\n",
       "      <th>age</th>\n",
       "      <th>wage_per_hour</th>\n",
       "      <th>capital_gains</th>\n",
       "      <th>capital_losses</th>\n",
       "      <th>dividends_from_stocks</th>\n",
       "      <th>num_persons_worked_for_employer</th>\n",
       "      <th>weeks_worked_in_year</th>\n",
       "      <th>education[T. Bachelors degree(BA AB BS)]</th>\n",
       "      <th>education[T. Masters degree(MA MS MEng MEd MSW MBA)]</th>\n",
       "      <th>education[T. Prof school degree (MD DDS DVM LLB JD)]</th>\n",
       "      <th>major_industry_code[T. Not in universe or children]</th>\n",
       "      <th>major_occupation_code[T. Executive admin and managerial]</th>\n",
       "      <th>major_occupation_code[T. Professional specialty]</th>\n",
       "      <th>tax_filer_stat[T. Joint both under 65]</th>\n",
       "      <th>tax_filer_stat[T. Nonfiler]</th>\n",
       "      <th>detailed_household_and_family_stat[T. Householder]</th>\n",
       "      <th>detailed_household_summary_in_household[T. Householder]</th>\n",
       "      <th>income_bucket[T. 50000+.]</th>\n",
       "      <th>detailed_industry_recode</th>\n",
       "    </tr>\n",
       "  </thead>\n",
       "  <tbody>\n",
       "    <tr>\n",
       "      <th>0</th>\n",
       "      <td>73</td>\n",
       "      <td>0</td>\n",
       "      <td>0</td>\n",
       "      <td>0</td>\n",
       "      <td>0</td>\n",
       "      <td>0</td>\n",
       "      <td>0</td>\n",
       "      <td>0.0</td>\n",
       "      <td>0.0</td>\n",
       "      <td>0.0</td>\n",
       "      <td>1.0</td>\n",
       "      <td>0.0</td>\n",
       "      <td>0.0</td>\n",
       "      <td>0.0</td>\n",
       "      <td>1.0</td>\n",
       "      <td>0.0</td>\n",
       "      <td>0.0</td>\n",
       "      <td>0.0</td>\n",
       "      <td>0.0</td>\n",
       "    </tr>\n",
       "    <tr>\n",
       "      <th>1</th>\n",
       "      <td>58</td>\n",
       "      <td>0</td>\n",
       "      <td>0</td>\n",
       "      <td>0</td>\n",
       "      <td>0</td>\n",
       "      <td>1</td>\n",
       "      <td>52</td>\n",
       "      <td>0.0</td>\n",
       "      <td>0.0</td>\n",
       "      <td>0.0</td>\n",
       "      <td>0.0</td>\n",
       "      <td>0.0</td>\n",
       "      <td>0.0</td>\n",
       "      <td>0.0</td>\n",
       "      <td>0.0</td>\n",
       "      <td>1.0</td>\n",
       "      <td>1.0</td>\n",
       "      <td>0.0</td>\n",
       "      <td>4.0</td>\n",
       "    </tr>\n",
       "    <tr>\n",
       "      <th>2</th>\n",
       "      <td>18</td>\n",
       "      <td>0</td>\n",
       "      <td>0</td>\n",
       "      <td>0</td>\n",
       "      <td>0</td>\n",
       "      <td>0</td>\n",
       "      <td>0</td>\n",
       "      <td>0.0</td>\n",
       "      <td>0.0</td>\n",
       "      <td>0.0</td>\n",
       "      <td>1.0</td>\n",
       "      <td>0.0</td>\n",
       "      <td>0.0</td>\n",
       "      <td>0.0</td>\n",
       "      <td>1.0</td>\n",
       "      <td>0.0</td>\n",
       "      <td>0.0</td>\n",
       "      <td>0.0</td>\n",
       "      <td>0.0</td>\n",
       "    </tr>\n",
       "    <tr>\n",
       "      <th>3</th>\n",
       "      <td>9</td>\n",
       "      <td>0</td>\n",
       "      <td>0</td>\n",
       "      <td>0</td>\n",
       "      <td>0</td>\n",
       "      <td>0</td>\n",
       "      <td>0</td>\n",
       "      <td>0.0</td>\n",
       "      <td>0.0</td>\n",
       "      <td>0.0</td>\n",
       "      <td>1.0</td>\n",
       "      <td>0.0</td>\n",
       "      <td>0.0</td>\n",
       "      <td>0.0</td>\n",
       "      <td>1.0</td>\n",
       "      <td>0.0</td>\n",
       "      <td>0.0</td>\n",
       "      <td>0.0</td>\n",
       "      <td>0.0</td>\n",
       "    </tr>\n",
       "    <tr>\n",
       "      <th>4</th>\n",
       "      <td>10</td>\n",
       "      <td>0</td>\n",
       "      <td>0</td>\n",
       "      <td>0</td>\n",
       "      <td>0</td>\n",
       "      <td>0</td>\n",
       "      <td>0</td>\n",
       "      <td>0.0</td>\n",
       "      <td>0.0</td>\n",
       "      <td>0.0</td>\n",
       "      <td>1.0</td>\n",
       "      <td>0.0</td>\n",
       "      <td>0.0</td>\n",
       "      <td>0.0</td>\n",
       "      <td>1.0</td>\n",
       "      <td>0.0</td>\n",
       "      <td>0.0</td>\n",
       "      <td>0.0</td>\n",
       "      <td>0.0</td>\n",
       "    </tr>\n",
       "  </tbody>\n",
       "</table>\n",
       "</div>"
      ],
      "text/plain": [
       "   age  wage_per_hour  capital_gains  capital_losses  dividends_from_stocks  \\\n",
       "0   73              0              0               0                      0   \n",
       "1   58              0              0               0                      0   \n",
       "2   18              0              0               0                      0   \n",
       "3    9              0              0               0                      0   \n",
       "4   10              0              0               0                      0   \n",
       "\n",
       "   num_persons_worked_for_employer  weeks_worked_in_year  \\\n",
       "0                                0                     0   \n",
       "1                                1                    52   \n",
       "2                                0                     0   \n",
       "3                                0                     0   \n",
       "4                                0                     0   \n",
       "\n",
       "   education[T. Bachelors degree(BA AB BS)]  \\\n",
       "0                                       0.0   \n",
       "1                                       0.0   \n",
       "2                                       0.0   \n",
       "3                                       0.0   \n",
       "4                                       0.0   \n",
       "\n",
       "   education[T. Masters degree(MA MS MEng MEd MSW MBA)]  \\\n",
       "0                                                0.0      \n",
       "1                                                0.0      \n",
       "2                                                0.0      \n",
       "3                                                0.0      \n",
       "4                                                0.0      \n",
       "\n",
       "   education[T. Prof school degree (MD DDS DVM LLB JD)]  \\\n",
       "0                                                0.0      \n",
       "1                                                0.0      \n",
       "2                                                0.0      \n",
       "3                                                0.0      \n",
       "4                                                0.0      \n",
       "\n",
       "   major_industry_code[T. Not in universe or children]  \\\n",
       "0                                                1.0     \n",
       "1                                                0.0     \n",
       "2                                                1.0     \n",
       "3                                                1.0     \n",
       "4                                                1.0     \n",
       "\n",
       "   major_occupation_code[T. Executive admin and managerial]  \\\n",
       "0                                                0.0          \n",
       "1                                                0.0          \n",
       "2                                                0.0          \n",
       "3                                                0.0          \n",
       "4                                                0.0          \n",
       "\n",
       "   major_occupation_code[T. Professional specialty]  \\\n",
       "0                                               0.0   \n",
       "1                                               0.0   \n",
       "2                                               0.0   \n",
       "3                                               0.0   \n",
       "4                                               0.0   \n",
       "\n",
       "   tax_filer_stat[T. Joint both under 65]  tax_filer_stat[T. Nonfiler]  \\\n",
       "0                                     0.0                          1.0   \n",
       "1                                     0.0                          0.0   \n",
       "2                                     0.0                          1.0   \n",
       "3                                     0.0                          1.0   \n",
       "4                                     0.0                          1.0   \n",
       "\n",
       "   detailed_household_and_family_stat[T. Householder]  \\\n",
       "0                                                0.0    \n",
       "1                                                1.0    \n",
       "2                                                0.0    \n",
       "3                                                0.0    \n",
       "4                                                0.0    \n",
       "\n",
       "   detailed_household_summary_in_household[T. Householder]  \\\n",
       "0                                                0.0         \n",
       "1                                                1.0         \n",
       "2                                                0.0         \n",
       "3                                                0.0         \n",
       "4                                                0.0         \n",
       "\n",
       "   income_bucket[T. 50000+.]  detailed_industry_recode  \n",
       "0                        0.0                       0.0  \n",
       "1                        0.0                       4.0  \n",
       "2                        0.0                       0.0  \n",
       "3                        0.0                       0.0  \n",
       "4                        0.0                       0.0  "
      ]
     },
     "execution_count": 102,
     "metadata": {},
     "output_type": "execute_result"
    }
   ],
   "source": [
    "df_train_model[used_columns].head()"
   ]
  },
  {
   "cell_type": "code",
   "execution_count": 104,
   "metadata": {
    "collapsed": false
   },
   "outputs": [
    {
     "data": {
      "text/plain": [
       "age                                                         True\n",
       "wage_per_hour                                               True\n",
       "capital_gains                                               True\n",
       "capital_losses                                              True\n",
       "dividends_from_stocks                                       True\n",
       "num_persons_worked_for_employer                             True\n",
       "weeks_worked_in_year                                        True\n",
       "education[T. Bachelors degree(BA AB BS)]                    True\n",
       "education[T. Masters degree(MA MS MEng MEd MSW MBA)]        True\n",
       "education[T. Prof school degree (MD DDS DVM LLB JD)]        True\n",
       "major_industry_code[T. Not in universe or children]         True\n",
       "major_occupation_code[T. Executive admin and managerial]    True\n",
       "major_occupation_code[T. Professional specialty]            True\n",
       "tax_filer_stat[T. Joint both under 65]                      True\n",
       "tax_filer_stat[T. Nonfiler]                                 True\n",
       "detailed_household_and_family_stat[T. Householder]          True\n",
       "detailed_household_summary_in_household[T. Householder]     True\n",
       "income_bucket[T. 50000+.]                                   True\n",
       "detailed_industry_recode                                    True\n",
       "Name: 0, dtype: bool"
      ]
     },
     "execution_count": 104,
     "metadata": {},
     "output_type": "execute_result"
    }
   ],
   "source": [
    "X_new[0] == df_train_model[used_columns].iloc[0]"
   ]
  },
  {
   "cell_type": "code",
   "execution_count": 198,
   "metadata": {
    "collapsed": false
   },
   "outputs": [
    {
     "data": {
      "text/plain": [
       "(199523, 19)"
      ]
     },
     "execution_count": 198,
     "metadata": {},
     "output_type": "execute_result"
    }
   ],
   "source": [
    "X_new.shape"
   ]
  },
  {
   "cell_type": "code",
   "execution_count": null,
   "metadata": {
    "collapsed": false
   },
   "outputs": [],
   "source": []
  },
  {
   "cell_type": "code",
   "execution_count": null,
   "metadata": {
    "collapsed": true
   },
   "outputs": [],
   "source": []
  }
 ],
 "metadata": {
  "kernelspec": {
   "display_name": "Python 2",
   "language": "python",
   "name": "python2"
  },
  "language_info": {
   "codemirror_mode": {
    "name": "ipython",
    "version": 2
   },
   "file_extension": ".py",
   "mimetype": "text/x-python",
   "name": "python",
   "nbconvert_exporter": "python",
   "pygments_lexer": "ipython2",
   "version": "2.7.11"
  }
 },
 "nbformat": 4,
 "nbformat_minor": 0
}
